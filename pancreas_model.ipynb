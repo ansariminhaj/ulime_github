{
 "cells": [
  {
   "cell_type": "code",
   "execution_count": 1,
   "metadata": {},
   "outputs": [],
   "source": [
    "import SimpleITK as sitk\n",
    "import torch\n",
    "import torchvision\n",
    "import torchvision.transforms as transforms\n",
    "import numpy as np\n",
    "import matplotlib.pyplot as plt\n",
    "from torch.utils.tensorboard import SummaryWriter\n",
    "import copy\n",
    "import skimage.io \n",
    "import skimage.segmentation\n",
    "import copy\n",
    "import sklearn\n",
    "from sklearn.linear_model import LinearRegression\n",
    "import warnings\n",
    "import matplotlib.pyplot as plt\n",
    "from torchsummary import summary\n",
    "from torch.distributions import studentT, normal, beta, exponential\n",
    "import sys\n",
    "import torch.optim as optim\n",
    "import cv2, os, math\n",
    "from PIL import Image\n",
    "import requests\n",
    "import ast\n",
    "import pandas as pd\n",
    "import shutil, random\n",
    "from itertools import product\n",
    "device = torch.device(\"cuda:0\" if torch.cuda.is_available() else \"cpu\")\n",
    "writer = SummaryWriter()\n",
    "%matplotlib inline"
   ]
  },
  {
   "cell_type": "markdown",
   "metadata": {},
   "source": [
    "### Create Train Test Split"
   ]
  },
  {
   "cell_type": "code",
   "execution_count": null,
   "metadata": {},
   "outputs": [],
   "source": [
    "#Split into train test folders\n",
    "#75/25 train/test split\n",
    "#Three classes ['cropped_IPMN_60', 'cropped_pdac_60', 'cropped_pnet_2']\n",
    "\n",
    "train_dir = 'train'\n",
    "test_dir = 'test'\n",
    "dirnames = ['cropped_IPMN_60', 'cropped_pdac_60', 'cropped_pnet_2']\n",
    "\n",
    "for dirname in dirnames:\n",
    "    os.mkdir(\"test/\"+dirname)\n",
    "    for path_dir, dirnames, filenames in os.walk(train_dir+\"/\"+dirname):\n",
    "        test_quantity = int((len(filenames)/100)*25)\n",
    "        random_select = random.sample(filenames, test_quantity)\n",
    "        for file in random_select:\n",
    "            shutil.move(\"train/\"+dirname+\"/\"+file, \"test/\"+dirname+\"/\"+file)"
   ]
  },
  {
   "cell_type": "markdown",
   "metadata": {},
   "source": [
    "### Define Image Transformations"
   ]
  },
  {
   "cell_type": "code",
   "execution_count": 82,
   "metadata": {},
   "outputs": [
    {
     "name": "stdout",
     "output_type": "stream",
     "text": [
      "Dataset ImageFolder\n",
      "    Number of datapoints: 398\n",
      "    Root location: pancreas_data/pancreas_data/traintest4/train2\n",
      "    StandardTransform\n",
      "Transform: Compose(\n",
      "               ToTensor()\n",
      "               RandomHorizontalFlip(p=0.5)\n",
      "               RandomRotation(degrees=[-360.0, 360.0], resample=False, expand=False)\n",
      "               Normalize(mean=(0.5, 0.5, 0.5), std=(0.5, 0.5, 0.5))\n",
      "               Resize(size=(224, 224), interpolation=PIL.Image.BILINEAR)\n",
      "           )\n",
      "Dataset ImageFolder\n",
      "    Number of datapoints: 131\n",
      "    Root location: pancreas_data/pancreas_data/traintest4/test2\n",
      "    StandardTransform\n",
      "Transform: Compose(\n",
      "               ToTensor()\n",
      "               Normalize(mean=(0.5, 0.5, 0.5), std=(0.5, 0.5, 0.5))\n",
      "               Resize(size=(224, 224), interpolation=PIL.Image.BILINEAR)\n",
      "           )\n"
     ]
    }
   ],
   "source": [
    "TRANSFORM_IMG = transforms.Compose(\n",
    "    [transforms.ToTensor(),\n",
    "    transforms.RandomHorizontalFlip(),\n",
    "    transforms.RandomRotation(360),\n",
    "    transforms.Normalize((0.5, 0.5, 0.5), (0.5, 0.5, 0.5)),\n",
    "    transforms.Resize((224, 224))])\n",
    "\n",
    "TRANSFORM_IMG_TEST = transforms.Compose(\n",
    "    [transforms.ToTensor(),\n",
    "    transforms.Normalize((0.5, 0.5, 0.5), (0.5, 0.5, 0.5)),\n",
    "    transforms.Resize((224, 224))])\n",
    "\n",
    "TRAIN_DATA_PATH = \"pancreas_data/pancreas_data/traintest4/train2\"\n",
    "TEST_DATA_PATH = \"pancreas_data/pancreas_data/traintest4/test2\"\n",
    "\n",
    "batch_size = 32\n",
    "\n",
    "train_data = torchvision.datasets.ImageFolder(root=TRAIN_DATA_PATH, transform=TRANSFORM_IMG)\n",
    "test_data = torchvision.datasets.ImageFolder(root=TEST_DATA_PATH, transform=TRANSFORM_IMG_TEST)\n",
    "\n",
    "trainloader = torch.utils.data.DataLoader(train_data, batch_size=batch_size, shuffle=True, num_workers=2)\n",
    "testloader = torch.utils.data.DataLoader(test_data, batch_size=batch_size, shuffle=False, num_workers=2)\n",
    "\n",
    "print(train_data)\n",
    "print(test_data)"
   ]
  },
  {
   "cell_type": "code",
   "execution_count": 25,
   "metadata": {},
   "outputs": [],
   "source": [
    "TRANSFORM_IMG_TEST = transforms.Compose(\n",
    "    [transforms.ToTensor(),\n",
    "    transforms.Normalize((0.5, 0.5, 0.5), (0.5, 0.5, 0.5)),\n",
    "    transforms.Resize((224, 224))])\n",
    "train_data = torchvision.datasets.ImageFolder(root=TRAIN_DATA_PATH, transform=TRANSFORM_IMG_TEST)\n",
    "testloader = torch.utils.data.DataLoader(test_data, batch_size=batch_size, shuffle=False, num_workers=2)"
   ]
  },
  {
   "cell_type": "code",
   "execution_count": 33,
   "metadata": {},
   "outputs": [
    {
     "name": "stdout",
     "output_type": "stream",
     "text": [
      "['cropped_IPMN_60', 'cropped_pdac_60', 'cropped_pnet_2']\n"
     ]
    }
   ],
   "source": [
    "print(test_data.classes)"
   ]
  },
  {
   "cell_type": "markdown",
   "metadata": {},
   "source": [
    "### Create a CNN Architecture"
   ]
  },
  {
   "cell_type": "code",
   "execution_count": 2,
   "metadata": {},
   "outputs": [],
   "source": [
    "import torch.nn as nn\n",
    "import torch.nn.functional as F\n",
    "\n",
    "class Net(nn.Module):\n",
    "    def __init__(self):\n",
    "        super().__init__()\n",
    "        \n",
    "        self.conv0 = nn.Conv2d(3, 16, 3, padding=1) #Channels in, Channels out, Filter size\n",
    "        self.conv0_bn = nn.BatchNorm2d(16)      \n",
    "        \n",
    "        self.conv1 = nn.Conv2d(16, 32, 3, padding=1) \n",
    "        self.conv1_bn = nn.BatchNorm2d(32)  \n",
    "        \n",
    "        self.conv3 = nn.Conv2d(32, 64, 3, padding=1)\n",
    "        self.conv3_bn = nn.BatchNorm2d(64)  \n",
    "\n",
    "        self.conv5 = nn.Conv2d(64, 128, 3, padding=1)\n",
    "        self.conv5_bn = nn.BatchNorm2d(128)  \n",
    "        \n",
    "        self.conv8 = nn.Conv2d(128, 256, 3, padding=1)\n",
    "        self.conv8_bn = nn.BatchNorm2d(256)  \n",
    "        \n",
    "        self.pool = nn.MaxPool2d(2, 2)\n",
    "#         self.dropout = nn.Dropout(0.25)\n",
    "        \n",
    "        # fully conected layers:\n",
    "        self.fc15 = nn.Linear(12544, 4096)\n",
    "        self.fc16 = nn.Linear(4096, 512)\n",
    "        self.fc17 = nn.Linear(512, 3)\n",
    "\n",
    "    def forward(self, x):\n",
    "        x = self.conv0(x)\n",
    "        x = F.relu(self.conv0_bn(x))\n",
    "#         x = self.dropout(x)\n",
    "        x= self.pool(x)\n",
    "        \n",
    "        x = self.conv1(x)\n",
    "        x = F.relu(self.conv1_bn(x))\n",
    "#         x = self.dropout(x)\n",
    "        x= self.pool(x)\n",
    "        \n",
    "        x = self.conv3(x)\n",
    "        x = F.relu(self.conv3_bn(x))\n",
    "#         x = self.dropout(x)\n",
    "        x= self.pool(x)\n",
    "        \n",
    "        x = self.conv5(x)\n",
    "        x = F.relu(self.conv5_bn(x))\n",
    "#         x = self.dropout(x)   \n",
    "        x = self.pool(x)\n",
    "        \n",
    "        x = self.conv8(x)\n",
    "        x = F.relu(self.conv8_bn(x))\n",
    "#         x = self.dropout(x)\n",
    "        x = self.pool(x)\n",
    "\n",
    "        x = x.reshape(-1, 12544)\n",
    "        x = F.relu(self.fc15(x))\n",
    "#         x = self.dropout(x)\n",
    "        x = F.relu(self.fc16(x))\n",
    "        x = self.fc17(x)\n",
    "        return x\n",
    "\n",
    "net = Net()\n",
    "net.to(device)\n",
    "\n",
    "criterion = nn.CrossEntropyLoss()\n",
    "optimizer = optim.Adam(net.parameters(), lr=0.0001, weight_decay=1e-4)"
   ]
  },
  {
   "cell_type": "markdown",
   "metadata": {},
   "source": [
    "### Train the CNN Classifier"
   ]
  },
  {
   "cell_type": "code",
   "execution_count": 94,
   "metadata": {
    "collapsed": true,
    "jupyter": {
     "outputs_hidden": true
    }
   },
   "outputs": [
    {
     "name": "stdout",
     "output_type": "stream",
     "text": [
      "Epoch  0 Train loss:  1.1480673093062181\n",
      "Epoch  0 Val loss:  1.052216351032257\n",
      "Initial val loss saved\n",
      "\n",
      "\n",
      "Epoch  1 Train loss:  0.9673408132333022\n",
      "Epoch  1 Val loss:  1.0387350916862488\n",
      "Val loss saved\n",
      "\n",
      "\n",
      "Epoch  2 Train loss:  0.9504779714804429\n",
      "Epoch  2 Val loss:  1.03415105342865\n",
      "Val loss saved\n",
      "\n",
      "\n",
      "Epoch  3 Train loss:  0.9506985957805927\n",
      "Epoch  3 Val loss:  0.9216179013252258\n",
      "Val loss saved\n",
      "\n",
      "\n",
      "Epoch  4 Train loss:  0.9011432574345515\n",
      "Epoch  4 Val loss:  0.8169188082218171\n",
      "Val loss saved\n",
      "\n",
      "\n",
      "Epoch  5 Train loss:  0.8223872780799866\n",
      "Epoch  5 Val loss:  0.795502769947052\n",
      "Val loss saved\n",
      "\n",
      "\n",
      "Epoch  6 Train loss:  0.7349023360472459\n",
      "Epoch  6 Val loss:  0.7244052052497864\n",
      "Val loss saved\n",
      "\n",
      "\n",
      "Epoch  7 Train loss:  0.702344128718743\n",
      "Epoch  7 Val loss:  0.6828773796558381\n",
      "Val loss saved\n",
      "\n",
      "\n",
      "Epoch  8 Train loss:  0.7264720705839304\n",
      "Epoch  8 Val loss:  0.6930437445640564\n",
      "\n",
      "\n",
      "Epoch  9 Train loss:  0.6337742369908553\n",
      "Epoch  9 Val loss:  0.9514057040214539\n",
      "\n",
      "\n",
      "Epoch  10 Train loss:  0.6655586476509388\n",
      "Epoch  10 Val loss:  0.7049375802278519\n",
      "\n",
      "\n",
      "Epoch  11 Train loss:  0.5778882663983566\n",
      "Epoch  11 Val loss:  0.6142180979251861\n",
      "Val loss saved\n",
      "\n",
      "\n",
      "Epoch  12 Train loss:  0.6096499562263489\n",
      "Epoch  12 Val loss:  0.5922307252883912\n",
      "Val loss saved\n",
      "\n",
      "\n",
      "Epoch  13 Train loss:  0.6010004304922544\n",
      "Epoch  13 Val loss:  0.6030517250299454\n",
      "\n",
      "\n",
      "Epoch  14 Train loss:  0.6059587506147531\n",
      "Epoch  14 Val loss:  0.7904846340417861\n",
      "\n",
      "\n",
      "Epoch  15 Train loss:  0.5746209621429443\n",
      "Epoch  15 Val loss:  0.5692420780658722\n",
      "Val loss saved\n",
      "\n",
      "\n",
      "Epoch  16 Train loss:  0.5673588674802047\n",
      "Epoch  16 Val loss:  0.5889993250370026\n",
      "\n",
      "\n",
      "Epoch  17 Train loss:  0.6018701906387622\n",
      "Epoch  17 Val loss:  0.7311907202005387\n",
      "\n",
      "\n",
      "Epoch  18 Train loss:  0.6244692091758435\n",
      "Epoch  18 Val loss:  0.5987853288650513\n",
      "\n",
      "\n",
      "Epoch  19 Train loss:  0.6107115355821756\n",
      "Epoch  19 Val loss:  0.6099159896373749\n",
      "\n",
      "\n",
      "Epoch  20 Train loss:  0.575704636482092\n",
      "Epoch  20 Val loss:  0.6048028111457825\n",
      "\n",
      "\n",
      "Epoch  21 Train loss:  0.5666798765842731\n",
      "Epoch  21 Val loss:  0.6476141005754471\n",
      "\n",
      "\n",
      "Epoch  22 Train loss:  0.5876641731995803\n",
      "Epoch  22 Val loss:  0.5818018317222595\n",
      "\n",
      "\n",
      "Epoch  23 Train loss:  0.5198629475556887\n",
      "Epoch  23 Val loss:  0.6163100123405456\n",
      "\n",
      "\n",
      "Epoch  24 Train loss:  0.6079238721957574\n",
      "Epoch  24 Val loss:  0.5669868171215058\n",
      "Val loss saved\n",
      "\n",
      "\n",
      "Epoch  25 Train loss:  0.5595091397945697\n",
      "Epoch  25 Val loss:  0.5761934816837311\n",
      "\n",
      "\n",
      "Epoch  26 Train loss:  0.567499754520563\n",
      "Epoch  26 Val loss:  0.5857959508895874\n",
      "\n",
      "\n",
      "Epoch  27 Train loss:  0.5582309021399572\n",
      "Epoch  27 Val loss:  0.5615220725536346\n",
      "Val loss saved\n",
      "\n",
      "\n",
      "Epoch  28 Train loss:  0.5632162758937249\n",
      "Epoch  28 Val loss:  0.5738695681095123\n",
      "\n",
      "\n",
      "Epoch  29 Train loss:  0.5849914046434256\n",
      "Epoch  29 Val loss:  0.5756912112236023\n",
      "\n",
      "\n",
      "Epoch  30 Train loss:  0.5077322262984055\n",
      "Epoch  30 Val loss:  0.5470003604888916\n",
      "Val loss saved\n",
      "\n",
      "\n",
      "Epoch  31 Train loss:  0.5238252465541546\n",
      "Epoch  31 Val loss:  0.6880123481154442\n",
      "\n",
      "\n",
      "Epoch  32 Train loss:  0.527293215577419\n",
      "Epoch  32 Val loss:  0.9421983867883682\n",
      "\n",
      "\n",
      "Epoch  33 Train loss:  0.6101446610230666\n",
      "Epoch  33 Val loss:  0.5562282860279083\n",
      "\n",
      "\n",
      "Epoch  34 Train loss:  0.5596020405109112\n",
      "Epoch  34 Val loss:  0.8964274048805236\n",
      "\n",
      "\n",
      "Epoch  35 Train loss:  0.6278681800915644\n",
      "Epoch  35 Val loss:  0.8220526590943337\n",
      "\n",
      "\n",
      "Epoch  36 Train loss:  0.6139933306437272\n",
      "Epoch  36 Val loss:  0.5968116223812103\n",
      "\n",
      "\n",
      "Epoch  37 Train loss:  0.5250176305954273\n",
      "Epoch  37 Val loss:  0.6114644467830658\n",
      "\n",
      "\n",
      "Epoch  38 Train loss:  0.5321081005609952\n",
      "Epoch  38 Val loss:  0.6628589183092117\n",
      "\n",
      "\n",
      "Epoch  39 Train loss:  0.5447213374651395\n",
      "Epoch  39 Val loss:  0.6301773130893707\n",
      "\n",
      "\n",
      "Finished Training\n"
     ]
    }
   ],
   "source": [
    "train_loss=[]\n",
    "val_loss=[]\n",
    "\n",
    "for epoch in range(40):  \n",
    "    count_t=0\n",
    "    count_v=0\n",
    "    \n",
    "    running_loss = 0.0\n",
    "    net.train()\n",
    "    for i, data in enumerate(trainloader, 0):\n",
    "\n",
    "        inputs, labels = data[0].to(device), data[1].to(device)\n",
    "        \n",
    "        optimizer.zero_grad()\n",
    "        outputs = net(inputs)\n",
    "        loss = criterion(outputs, labels)\n",
    "        loss.backward()\n",
    "        optimizer.step()\n",
    "\n",
    "        running_loss += loss.item()\n",
    "        count_t+=1\n",
    "        \n",
    "    train_loss.append(running_loss/count_t)\n",
    "    print(\"Epoch \", epoch, \"Train loss: \",running_loss/count_t)\n",
    "    \n",
    "    net.eval()\n",
    "    running_loss_v = 0.0     \n",
    "    for i_v, data_v in enumerate(testloader, 0):\n",
    "            inputs_v, labels_v = data_v[0].to(device), data_v[1].to(device)\n",
    "            \n",
    "            outputs_v = net(inputs_v)\n",
    "            loss_v = criterion(outputs_v, labels_v)\n",
    "\n",
    "            running_loss_v += loss_v.item()\n",
    "            count_v += 1 \n",
    "        \n",
    "    \n",
    "    val_loss.append(running_loss_v/count_v)\n",
    "    print(\"Epoch \", epoch, \"Val loss: \",running_loss_v/count_v)\n",
    "        \n",
    "    if len(val_loss) == 1:\n",
    "        print(\"Initial val loss saved\")\n",
    "        print(\"\\n\")\n",
    "        torch.save(net.state_dict(), \"pancreas_data/pancreas_data/weights5/pan.pth\")\n",
    "    else:\n",
    "        if val_loss[-1] <= min(val_loss):\n",
    "            print(\"Val loss saved\")\n",
    "            print(\"\\n\")\n",
    "            torch.save(net.state_dict(), \"pancreas_data/pancreas_data/weights5/pan_\"+str(epoch)+\"_.pth\")\n",
    "        else:\n",
    "            print(\"\\n\")\n",
    "\n",
    "print('Finished Training')\n"
   ]
  },
  {
   "cell_type": "code",
   "execution_count": null,
   "metadata": {},
   "outputs": [],
   "source": []
  },
  {
   "cell_type": "code",
   "execution_count": 120,
   "metadata": {},
   "outputs": [
    {
     "data": {
      "text/plain": [
       "<All keys matched successfully>"
      ]
     },
     "execution_count": 120,
     "metadata": {},
     "output_type": "execute_result"
    }
   ],
   "source": [
    "#Model working on weights4 pan_29_pth\n",
    "net1_loaded = Net()\n",
    "net1_loaded.cuda()\n",
    "net1_loaded.load_state_dict(torch.load(\"pancreas_data/pancreas_data/weights5/pan_30_works2.pth\"))"
   ]
  },
  {
   "cell_type": "markdown",
   "metadata": {},
   "source": [
    "### Find Model Accuracy"
   ]
  },
  {
   "cell_type": "code",
   "execution_count": 121,
   "metadata": {},
   "outputs": [
    {
     "name": "stdout",
     "output_type": "stream",
     "text": [
      "Accuracy on test images: 80 %\n"
     ]
    }
   ],
   "source": [
    "# since we're not training, we don't need to calculate the gradients for our outputs\n",
    "pred_labels = []\n",
    "actual_labels = []\n",
    "\n",
    "correct=0\n",
    "total=0 \n",
    "net1_loaded.eval()\n",
    "y_pred = \"\"\n",
    "outputs = 0\n",
    "\n",
    "with torch.no_grad():\n",
    "    for data in testloader:\n",
    "        images, labels = data[0].to(device), data[1].to(device)\n",
    "        # calculate outputs by running images through the network\n",
    "        outputs = net1_loaded(images)\n",
    "        # the class with the highest energy is what we choose as prediction\n",
    "        _, predicted = torch.max(outputs.data, 1)\n",
    "        \n",
    "\n",
    "        predicted_list = predicted.tolist()\n",
    "        pred_labels +=predicted_list\n",
    "        labels_list = labels.tolist()\n",
    "        actual_labels += labels_list\n",
    "        \n",
    "        total += labels.size(0)\n",
    "        correct += (predicted == labels).sum().item()\n",
    "        \n",
    "        y_pred = predicted.cpu()\n",
    "        \n",
    "\n",
    "print('Accuracy on test images: %d %%' % (100 * correct / total))"
   ]
  },
  {
   "cell_type": "markdown",
   "metadata": {},
   "source": [
    "### Find classifier performance scores and confusion matrix"
   ]
  },
  {
   "cell_type": "code",
   "execution_count": 122,
   "metadata": {},
   "outputs": [
    {
     "name": "stdout",
     "output_type": "stream",
     "text": [
      "              precision    recall  f1-score   support\n",
      "\n",
      "           0       0.96      0.96      0.96        25\n",
      "           1       0.83      0.80      0.81        65\n",
      "           2       0.70      0.73      0.71        41\n",
      "\n",
      "    accuracy                           0.81       131\n",
      "   macro avg       0.83      0.83      0.83       131\n",
      "weighted avg       0.81      0.81      0.81       131\n",
      "\n",
      "[[24  1  0]\n",
      " [ 0 52 13]\n",
      " [ 1 10 30]]\n"
     ]
    }
   ],
   "source": [
    "from sklearn.metrics import confusion_matrix, classification_report\n",
    "print(classification_report(actual_labels, pred_labels))\n",
    "cm = confusion_matrix(actual_labels, pred_labels)\n",
    "print(cm)"
   ]
  },
  {
   "cell_type": "markdown",
   "metadata": {},
   "source": [
    "### Plot Loss Graphs"
   ]
  },
  {
   "cell_type": "code",
   "execution_count": 95,
   "metadata": {},
   "outputs": [
    {
     "data": {
      "image/png": "[encoded data removed]",
      "text/plain": [
       "<Figure size 432x288 with 1 Axes>"
      ]
     },
     "metadata": {
      "needs_background": "light"
     },
     "output_type": "display_data"
    }
   ],
   "source": [
    "plt.plot(train_loss)\n",
    "plt.plot(val_loss)\n",
    "plt.title('model loss')\n",
    "plt.ylabel('loss', fontsize = 20)\n",
    "plt.xlabel('epoch', fontsize = 20)\n",
    "plt.rcParams['font.size'] = 20\n",
    "plt.rcParams['legend.fontsize'] = 15\n",
    "# plt.rcParams['axes.facecolor'] = 'gainsboro'\n",
    "plt.grid(color='dimgray')\n",
    "plt.legend(['train', 'val'], loc='upper right')\n",
    "plt.savefig('loss_panc_final_30_r.png', bbox_inches='tight')"
   ]
  },
  {
   "cell_type": "code",
   "execution_count": null,
   "metadata": {},
   "outputs": [],
   "source": []
  }
 ],
 "metadata": {
  "kernelspec": {
   "display_name": "Python 3",
   "language": "python",
   "name": "python3"
  },
  "language_info": {
   "codemirror_mode": {
    "name": "ipython",
    "version": 3
   },
   "file_extension": ".py",
   "mimetype": "text/x-python",
   "name": "python",
   "nbconvert_exporter": "python",
   "pygments_lexer": "ipython3",
   "version": "3.7.7"
  }
 },
 "nbformat": 4,
 "nbformat_minor": 5
}

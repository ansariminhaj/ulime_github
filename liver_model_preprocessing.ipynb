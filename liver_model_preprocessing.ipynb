{
 "cells": [
  {
   "cell_type": "code",
   "execution_count": null,
   "metadata": {},
   "outputs": [],
   "source": [
    "import SimpleITK as sitk\n",
    "import torch\n",
    "import torchvision\n",
    "import torchvision.transforms as transforms\n",
    "import numpy as np\n",
    "import matplotlib.pyplot as plt\n",
    "from torch.utils.tensorboard import SummaryWriter\n",
    "import copy\n",
    "import skimage.io \n",
    "import skimage.segmentation\n",
    "import copy\n",
    "import sklearn\n",
    "import sklearn.metrics\n",
    "from sklearn.linear_model import LinearRegression\n",
    "import warnings\n",
    "import matplotlib.pyplot as plt\n",
    "from torchsummary import summary\n",
    "from torch.distributions import studentT, normal, beta, exponential\n",
    "import sys\n",
    "import torch.optim as optim\n",
    "import cv2, os, math\n",
    "from PIL import Image\n",
    "import requests\n",
    "import ast\n",
    "import pandas as pd\n",
    "import shutil, random\n",
    "from itertools import product\n",
    "import imageio\n",
    "device = torch.device(\"cuda:0\" if torch.cuda.is_available() else \"cpu\")\n",
    "writer = SummaryWriter()\n",
    "%matplotlib inline"
   ]
  },
  {
   "cell_type": "markdown",
   "metadata": {},
   "source": [
    "### Tumor Dilation"
   ]
  },
  {
   "cell_type": "code",
   "execution_count": null,
   "metadata": {},
   "outputs": [],
   "source": [
    "### Dilate HCC and MCRC tumors to capture boundary\n",
    "\n",
    "save_dir = 'HCC/tumor_masks'\n",
    "dirnames_list = []\n",
    "\n",
    "kernel = np.ones((5,5), np.uint8)\n",
    "for path_dir, dirnames, filenames in os.walk(\"HCC\"):\n",
    "    dirnames_list = dirnames\n",
    "    break\n",
    "for dirname in dirnames_list:\n",
    "    for path_dir, dirnames, filenames in os.walk(\"HCC/\"+dirname):\n",
    "        for file in filenames:\n",
    "            if file[-3:] == \"mhd\" and \"Tumor\" in file:\n",
    "                path1 = \"HCC/\"+dirname+\"/\"+file\n",
    "                mhd_image_tumor = sitk.ReadImage(path1)\n",
    "                arr = sitk.GetArrayFromImage(mhd_image_tumor)\n",
    "                arr = np.where(arr > -1000, 1, arr)\n",
    "                arr = np.where(arr == -1000, 0, arr)\n",
    "                for i in range(len(arr)):\n",
    "                    print(\"White pixel count: \", np.count_nonzero(arr[i]))\n",
    "                    arr[i] = cv2.dilate(arr[i], kernel, iterations=1)\n",
    "                    print(\"White pixel count (After Dialation): \", np.count_nonzero(arr[i]))\n",
    "\n",
    "                mhd_tumor_mask = sitk.GetImageFromArray(arr)\n",
    "                mhd_tumor_mask.CopyInformation(mhd_image_tumor)\n",
    "\n",
    "                writer = sitk.ImageFileWriter()\n",
    "                writer.SetFileName(save_dir+'/'+file)\n",
    "                writer.Execute(mhd_tumor_mask)\n",
    "        "
   ]
  },
  {
   "cell_type": "code",
   "execution_count": null,
   "metadata": {},
   "outputs": [],
   "source": [
    "save_dir = 'MCRC/tumor_masks'\n",
    "\n",
    "kernel = np.ones((5,5), np.uint8)\n",
    "for path_dir, dirnames, filenames in os.walk(\"MCRC/tumor\"):\n",
    "    for file in filenames:\n",
    "        if file[-3:] == \"mhd\":\n",
    "            path1 = \"MCRC/tumor/\"+file\n",
    "            mhd_image_tumor = sitk.ReadImage(path1)\n",
    "            arr = sitk.GetArrayFromImage(mhd_image_tumor)\n",
    "            arr = np.where(arr > -1000, 1, arr)\n",
    "            arr = np.where(arr == -1000, 0, arr)\n",
    "            for i in range(len(arr)):\n",
    "                print(\"White pixel count: \", np.count_nonzero(arr[i]))\n",
    "                arr[i] = cv2.dilate(arr[i], kernel, iterations=1)\n",
    "                print(\"White pixel count (After Dialation): \", np.count_nonzero(arr[i]))\n",
    "\n",
    "            mhd_tumor_mask = sitk.GetImageFromArray(arr)\n",
    "            mhd_tumor_mask.CopyInformation(mhd_image_tumor)\n",
    "            \n",
    "            writer = sitk.ImageFileWriter()\n",
    "            writer.SetFileName(save_dir+'/'+file)\n",
    "            writer.Execute(mhd_tumor_mask)"
   ]
  },
  {
   "cell_type": "markdown",
   "metadata": {},
   "source": [
    "### Checking sizes of tumor CT masks and liver CT image"
   ]
  },
  {
   "cell_type": "code",
   "execution_count": null,
   "metadata": {},
   "outputs": [],
   "source": [
    "#We check the size of the liver CT slices and the liver tumor mask CT slices to ensure they are the same\n",
    "#We will overlay the mask on the liver image and extract the liver tumor + liver tumor boundary obtained from dilation.\n",
    "\n",
    "for fileliver, filetumor in zip(f1, f2):\n",
    "    if fileliver[-3:] == \"mhd\" and filetumor[-3:] == \"mhd\":\n",
    "        print(fileliver, filetumor)\n",
    "        \n",
    "        path1 = \"MCRC/liver/\"+fileliver\n",
    "        mhd_image_liver = sitk.ReadImage(path1)\n",
    "        liver_size = mhd_image_liver.GetSize()\n",
    "        \n",
    "        path2 = \"MCRC/tumor_boundary_level/\"+filetumor\n",
    "        mhd_image_tumor = sitk.ReadImage(path2)\n",
    "        tumor_size = mhd_image_tumor.GetSize()\n",
    "        \n",
    "        if (liver_size != tumor_size):\n",
    "            print(\"Tumor file: \", filetumor, \" Liver file:\", fileliver)\n",
    "            print(\"Size is the same\")"
   ]
  },
  {
   "cell_type": "code",
   "execution_count": null,
   "metadata": {},
   "outputs": [],
   "source": [
    "liver_filenames = []\n",
    "tumor_filenames = []\n",
    "\n",
    "for path_dir, dirnames, filenames in os.walk(\"MCRC/liver\"):\n",
    "    for file in filenames:\n",
    "        if file[-3:] == \"mhd\":\n",
    "            liver_filenames.append(file)\n",
    "for path_dir, dirnames, filenames in os.walk(\"MCRC/tumor_masks\"):\n",
    "    for file in filenames:\n",
    "        if file[-3:] == \"mhd\":\n",
    "            tumor_filenames.append(file)\n",
    "            \n",
    "print(liver_filenames)\n",
    "print(tumor_filenames)"
   ]
  },
  {
   "cell_type": "markdown",
   "metadata": {},
   "source": [
    "### Extract tumor + tumor boundary from liver"
   ]
  },
  {
   "cell_type": "code",
   "execution_count": null,
   "metadata": {},
   "outputs": [],
   "source": [
    "save_dir = 'HCC/tumor_boundary'\n",
    "\n",
    "for tumor_file in tumor_no_duplicates:\n",
    "    path2 = \"HCC/tumor_masks/\"+tumor_file\n",
    "    mhd_mask_tumor = sitk.ReadImage(path2)\n",
    "    tumor_size = mhd_mask_tumor.GetSize()\n",
    "    print(tumor_size)\n",
    "    mask_arr = sitk.GetArrayFromImage(mhd_mask_tumor)\n",
    "\n",
    "    for liver_file in liver_filenames:\n",
    "        if liver_file[-3:] == \"mhd\" and liver_file[:3] == tumor_file[:3]:\n",
    "            print(liver_file + \"\\n\")\n",
    "            path1 = \"MCRC/liver/\"+liver_file\n",
    "            mhd_image_liver = sitk.ReadImage(path1)\n",
    "\n",
    "            liver_arr = sitk.GetArrayFromImage(mhd_image_liver)\n",
    "\n",
    "            tumor_liver_arr = []\n",
    "            minus_1000 = np.full((512, 512), -1000)\n",
    "            plus_1000 = np.full((512, 512), 1000)\n",
    "\n",
    "            for slice_liver, slice_mask in zip(liver_arr, mask_arr):\n",
    "                masked = ((slice_liver + plus_1000) * slice_mask) - 1000\n",
    "                tumor_liver_arr.append(masked)\n",
    "\n",
    "            tumor_liver_arr = np.array(tumor_liver_arr)\n",
    "            mhd_tumor_liver = sitk.GetImageFromArray(tumor_liver_arr)\n",
    "\n",
    "            writer = sitk.ImageFileWriter()\n",
    "            writer.SetFileName(save_dir+'/'+tumor_file)\n",
    "            writer.Execute(mhd_tumor_liver)\n",
    "        "
   ]
  },
  {
   "cell_type": "markdown",
   "metadata": {},
   "source": [
    "### Pick The Largest Slice and Set Window Level"
   ]
  },
  {
   "cell_type": "code",
   "execution_count": null,
   "metadata": {},
   "outputs": [],
   "source": [
    "save_dir = \"HCC/hcc_images\"\n",
    "for path_dir, dirnames, filenames in os.walk(\"HCC/tumor_boundary\"):\n",
    "    for file in filenames:\n",
    "        if file[-3:] == \"mhd\":\n",
    "            print(file)\n",
    "            path = \"HCC/tumor_boundary/\"+file\n",
    "            mhd_image = sitk.ReadImage(path)\n",
    "            arr = sitk.GetArrayFromImage(mhd_image)\n",
    "            max_nonzero = 0\n",
    "            for img in arr:        \n",
    "                img_for_count = copy.deepcopy(img)\n",
    "                for i in range(img_for_count.shape[0]):\n",
    "                    for j in range(img_for_count.shape[1]):\n",
    "                        if img_for_count[i][j] < 0:\n",
    "                            img_for_count[i][j] = 0\n",
    "                nonzero = np.count_nonzero(img_for_count)\n",
    "                \n",
    "                if nonzero>max_nonzero:\n",
    "                    max_nonzero = nonzero\n",
    "\n",
    "                    figure = plt.gcf() # get current figure\n",
    "                    figure.set_size_inches(9.43, 9.43)\n",
    "                    plt.axis('off')\n",
    "                    \n",
    "                    #To ensure the features of the tumor were visible, Hounsfield units from -135 to 215 were\n",
    "                    #linearly  mapped  to  gray  levels  from  (0  to  1)/(0  to  255)  when  converting  to  PNG.\n",
    "                    \n",
    "                    plt.imshow(img, cmap='gray', vmin=-135, vmax=215) #Windowing\n",
    "                    plt.show()\n",
    "                    plt.savefig(save_dir+\"/\"+file[:-4]+\".png\", bbox_inches=\"tight\",pad_inches=0)\n",
    "                    plt.clf()"
   ]
  },
  {
   "cell_type": "code",
   "execution_count": null,
   "metadata": {},
   "outputs": [],
   "source": [
    "#Seperate tumor slices in two classes (label 0): HCC Images (label 1): MCRC Images \n",
    "\n",
    "df=pd.read_csv(\"msk_data.csv\")\n",
    "for ids, label in zip(df['Scout_ID'], df['HGP']):\n",
    "    if label == 0:\n",
    "        shutil.copy(\"HCC/hcc_images/\"+ids+\"_Tumor.png\", \"HCC/hcc_images_1\")\n",
    "    elif label == 1:\n",
    "        shutil.copy(\"MCRC/mcrc_images/\"+ids+\"_Tumor.png\", \"MCRC/mcrc_images_1\")\n",
    "    else:\n",
    "        pass"
   ]
  }
 ],
 "metadata": {
  "kernelspec": {
   "display_name": "Python 3",
   "language": "python",
   "name": "python3"
  },
  "language_info": {
   "codemirror_mode": {
    "name": "ipython",
    "version": 3
   },
   "file_extension": ".py",
   "mimetype": "text/x-python",
   "name": "python",
   "nbconvert_exporter": "python",
   "pygments_lexer": "ipython3",
   "version": "3.7.7"
  }
 },
 "nbformat": 4,
 "nbformat_minor": 5
}
